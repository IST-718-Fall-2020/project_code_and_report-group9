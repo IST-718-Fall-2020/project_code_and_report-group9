{
  "nbformat": 4,
  "nbformat_minor": 0,
  "metadata": {
    "colab": {
      "name": "Labeling_Sentiment.ipynb",
      "provenance": [],
      "collapsed_sections": []
    },
    "kernelspec": {
      "name": "python3",
      "display_name": "Python 3"
    }
  },
  "cells": [
    {
      "cell_type": "code",
      "metadata": {
        "id": "JEhv596cafF1",
        "outputId": "8f1b952e-d14f-464e-d150-10a3c46b4b3a",
        "colab": {
          "base_uri": "https://localhost:8080/"
        }
      },
      "source": [
        "#configure envirnoment and install pyspark\n",
        "!pip install pyspark\n",
        "%matplotlib inline\n",
        "from pyspark.sql import SparkSession\n",
        "from pyspark.sql import SQLContext\n",
        "spark = SparkSession.builder.getOrCreate()\n",
        "sc = spark.sparkContext\n",
        "sqlContext = SQLContext(sc)\n",
        "import pandas as pd"
      ],
      "execution_count": 1,
      "outputs": [
        {
          "output_type": "stream",
          "text": [
            "Requirement already satisfied: pyspark in /usr/local/lib/python3.6/dist-packages (3.0.1)\n",
            "Requirement already satisfied: py4j==0.10.9 in /usr/local/lib/python3.6/dist-packages (from pyspark) (0.10.9)\n"
          ],
          "name": "stdout"
        }
      ]
    },
    {
      "cell_type": "code",
      "metadata": {
        "id": "99gWnSsJaic-"
      },
      "source": [
        "import pandas as pd\n",
        "#reading in our tweets scraped before election into pandas dataframe\n",
        "before_df = pd.read_csv(\"tweets.csv\")"
      ],
      "execution_count": 2,
      "outputs": []
    },
    {
      "cell_type": "code",
      "metadata": {
        "id": "nvS4C3-Ab-4X"
      },
      "source": [
        "#reading in our tweets scraped after election into pandas dataframe\n",
        "after_df = pd.read_csv(\"tweet_after.csv\")"
      ],
      "execution_count": 3,
      "outputs": []
    },
    {
      "cell_type": "code",
      "metadata": {
        "id": "hoa0Od8JcRz-"
      },
      "source": [
        "# Converting spark to pandas data frame\n",
        "from pyspark.sql.types import *\n",
        "# mySchema=StructType([StructField(\"Country\", StringType())\\\n",
        "#                       ,StructField(\"Org\", StringType())])\n",
        "\n",
        "mySchema = StructType([StructField(\"user\", StringType())\\\n",
        "                      ,StructField(\"id\", FloatType())\\\n",
        "                      ,StructField(\"location\", StringType())\\\n",
        "                      ,StructField(\"date\", StringType())\\\n",
        "                      ,StructField(\"favourites_count\", StringType())\\\n",
        "                      ,StructField(\"text\", StringType())\\\n",
        "                      ,StructField(\"retweet\", StringType())])\n",
        "#before\n",
        "df_before = spark.createDataFrame(before_df,schema=mySchema)\n",
        "#after\n",
        "df_after = spark.createDataFrame(after_df,schema=mySchema)\n",
        "# drop columns\n",
        "df_before = df_before.drop('id', 'date')\n",
        "# change the data type\n",
        "df_before = df_before.withColumn(\"favourites_count\", df_before['favourites_count'].cast(IntegerType()))\n",
        "# # drop rows which tweet is retweet\n",
        "df_before = df_before.filter(df_before['retweet'] == 'false')\n",
        "\n",
        "# drop columns\n",
        "df_after = df_after.drop('id', 'date')\n",
        "# change the data type\n",
        "df_after = df_after.withColumn(\"favourites_count\", df_after['favourites_count'].cast(IntegerType()))\n",
        "# # drop rows which tweet is retweet\n",
        "df_after = df_after.filter(df_after['retweet'] == 'false')"
      ],
      "execution_count": 4,
      "outputs": []
    },
    {
      "cell_type": "code",
      "metadata": {
        "id": "Oc-lGX6idX_Y",
        "outputId": "ae4066fa-9915-4574-abad-af72905db3a9",
        "colab": {
          "base_uri": "https://localhost:8080/"
        }
      },
      "source": [
        "# check if there are duplicate rows\n",
        "if df_before.distinct().count() != df_before.count():\n",
        "  print('There are duplicate rows.')\n",
        "else:\n",
        "  print('No duplicated.')\n",
        "if df_after.distinct().count() != df_after.count():\n",
        "  print('There are duplicate rows.')\n",
        "else:\n",
        "  print('No duplicated.')"
      ],
      "execution_count": 5,
      "outputs": [
        {
          "output_type": "stream",
          "text": [
            "There are duplicate rows.\n",
            "There are duplicate rows.\n"
          ],
          "name": "stdout"
        }
      ]
    },
    {
      "cell_type": "code",
      "metadata": {
        "id": "X6dtB8bPeLEq",
        "outputId": "f72b98de-76a8-474c-a84d-fbfd680e2afe",
        "colab": {
          "base_uri": "https://localhost:8080/"
        }
      },
      "source": [
        "# remove duplicate rows\n",
        "df_before = df_before.dropDuplicates()\n",
        "df_before.count()\n",
        "\n",
        "# remove duplicate rows\n",
        "df_after = df_after.dropDuplicates()\n",
        "df_after.count()"
      ],
      "execution_count": 6,
      "outputs": [
        {
          "output_type": "execute_result",
          "data": {
            "text/plain": [
              "15860"
            ]
          },
          "metadata": {
            "tags": []
          },
          "execution_count": 6
        }
      ]
    },
    {
      "cell_type": "code",
      "metadata": {
        "id": "QFgJ_CQ9eXAO"
      },
      "source": [
        "# extract the hashtage\n",
        "import re\n",
        "#extracting hashtags as a means of possible cluster validation  \n",
        "def extraxt_hashtags(text):\n",
        "  hashtags = re.findall(r'\\B#\\w*[a-zA-Z]+\\w*', text)\n",
        "  return hashtags\n",
        "\n",
        "from pyspark.sql.functions import udf, expr, concat, col\n",
        "from pyspark.sql import types\n",
        "func_hash = udf(extraxt_hashtags, types.StringType())\n",
        "df_before = df_before.withColumn(\"hashtage\", func_hash(\"text\"))\n",
        "\n",
        "# clean tweet\n",
        "from string import punctuation\n",
        "def clean_tweet(tweet):\n",
        "    # Remove hyperlinks\n",
        "    tweet = re.sub(\"https?://[A-Za-z0-9./]*\",\"\",tweet)\n",
        "    # Remove hashtags\n",
        "    tweet = re.sub(r'#\\w*', '', tweet)\n",
        "    # Remove tickers\n",
        "    tweet = re.sub(r'\\$\\w*', '', tweet)\n",
        "    #@user -> at_user\n",
        "    tweet = re.sub(\"@[\\w]*\",\"\",tweet)\n",
        "    # To lowercase\n",
        "    tweet = tweet.lower()\n",
        "    # Remove Punctuation and split 's, 't, 've with a space for filter\n",
        "    tweet = re.sub(r'[' + punctuation.replace('@', '') + ']+', ' ', tweet)\n",
        "    # Remove words: I, a , am, me (2 or less letters)\n",
        "    tweet = re.sub(r'\\b\\w{1,2}\\b', '', tweet)\n",
        "    # Remove whitespace (including new line characters)\n",
        "    tweet = re.sub(r'\\s\\s+', ' ', tweet)\n",
        "    # Remove single space remaining at the front of the tweet.\n",
        "    tweet = tweet.lstrip(' ') \n",
        "    # Remove emojis or other. special characters\n",
        "    tweet = ''.join(c for c in tweet if c <= '\\uFFFF') \n",
        "    return tweet  \n",
        "\n",
        "func_clean = udf(clean_tweet, types.StringType())\n",
        "df_before = df_before.withColumn(\"clean_text\", func_clean(\"text\"))"
      ],
      "execution_count": 7,
      "outputs": []
    },
    {
      "cell_type": "code",
      "metadata": {
        "id": "XVV5sKgTeiL6"
      },
      "source": [
        "func_clean = udf(clean_tweet, types.StringType())\n",
        "df_after = df_after.withColumn(\"clean_text\", func_clean(\"text\"))"
      ],
      "execution_count": 8,
      "outputs": []
    },
    {
      "cell_type": "code",
      "metadata": {
        "id": "i2f2BmkJesSB"
      },
      "source": [
        "from pyspark.ml.feature import Tokenizer\n",
        "from pyspark.ml.feature import StopWordsRemover\n",
        "from pyspark.ml.feature import IDF\n",
        "import requests\n",
        "from pyspark.ml import Pipeline\n",
        "from pyspark.ml.feature import CountVectorizer\n",
        "\n",
        "tokenizer = Tokenizer()\\\n",
        "  .setInputCol(\"clean_text\")\\\n",
        "  .setOutputCol(\"words\")\n",
        "\n",
        "# stopwords object\n",
        "# we obtain the stop words from a website\n",
        "stop_words = requests.get('http://ir.dcs.gla.ac.uk/resources/linguistic_utils/stop_words').text.split()\n",
        "stop_words[0:10]\n",
        "sw_filter = StopWordsRemover()\\\n",
        "\\\n",
        "  .setStopWords(stop_words)\\\n",
        "  .setCaseSensitive(False)\\\n",
        "  .setInputCol(\"words\")\\\n",
        "  .setOutputCol(\"filtered\")\n",
        "\n",
        "# we will remove words that appear in 5 docs or less\n",
        "cv = CountVectorizer()\\\n",
        "  .setInputCol(\"filtered\")\\\n",
        "  .setOutputCol(\"tf\")\n",
        "\n",
        "# TF-IDF object\n",
        "idf = IDF().\\\n",
        "    setInputCol('tf').\\\n",
        "    setOutputCol('tfidf')\n",
        "\n",
        "# build the pipeline\n",
        "pipe1 = Pipeline(stages=[tokenizer, sw_filter, cv]).fit(df_before)\n",
        "tweets_pipe = Pipeline(stages=[pipe1, idf]).fit(df_before)"
      ],
      "execution_count": 9,
      "outputs": []
    },
    {
      "cell_type": "code",
      "metadata": {
        "id": "jCfdDwRmew6s"
      },
      "source": [
        "# build the pipeline\n",
        "pipe2 = Pipeline(stages=[tokenizer, sw_filter, cv]).fit(df_after)\n",
        "tweets_pipe_after = Pipeline(stages=[pipe1, idf]).fit(df_after)"
      ],
      "execution_count": 10,
      "outputs": []
    },
    {
      "cell_type": "code",
      "metadata": {
        "id": "y2GaTt37e99y"
      },
      "source": [
        "tweets_before = tweets_pipe.transform(df_before)"
      ],
      "execution_count": 11,
      "outputs": []
    },
    {
      "cell_type": "code",
      "metadata": {
        "id": "GaDt4ohUfHy3"
      },
      "source": [
        "tweets_after = tweets_pipe_after.transform(df_after)"
      ],
      "execution_count": 12,
      "outputs": []
    },
    {
      "cell_type": "code",
      "metadata": {
        "id": "Hft40QMsfMaT"
      },
      "source": [
        "from pyspark.sql.types import *"
      ],
      "execution_count": 13,
      "outputs": []
    },
    {
      "cell_type": "code",
      "metadata": {
        "id": "TzVWWG9CgWYF",
        "outputId": "16f4fa9d-9335-4036-b45d-48881f49ce30",
        "colab": {
          "base_uri": "https://localhost:8080/"
        }
      },
      "source": [
        "tweets_after.show()"
      ],
      "execution_count": 14,
      "outputs": [
        {
          "output_type": "stream",
          "text": [
            "+---------------+-----------------------+----------------+--------------------+-------+--------------------+--------------------+--------------------+--------------------+--------------------+\n",
            "|           user|               location|favourites_count|                text|retweet|          clean_text|               words|            filtered|                  tf|               tfidf|\n",
            "+---------------+-----------------------+----------------+--------------------+-------+--------------------+--------------------+--------------------+--------------------+--------------------+\n",
            "|nicholasmcardle|       White House -TBC|             418|@realDonaldTrump ...|  false|trump english can...|[trump, english, ...|[trump, english, ...|(20493,[1,8,9,11,...|(20493,[1,8,9,11,...|\n",
            "|     seanieinaz|                    NaN|              38|@realDonaldTrump ...|  false|can donald trump ...|[can, donald, tru...|[donald, trump, t...|(20493,[1,11,52,6...|(20493,[1,11,52,6...|\n",
            "|    packard1963|         Northumberland|           13002|@KayBurley #mikep...|  false|saying more less ...|[saying, more, le...|       [saying, say]|(20493,[50,196],[...|(20493,[50,196],[...|\n",
            "| mikepence_smom|          United States|             801|@MSarelson @Angel...|  false|put his ass jail ...|[put, his, ass, j...|[ass, jail, arres...|(20493,[412,819,2...|(20493,[412,819,2...|\n",
            "| mikepence_smom|          United States|             801|Yeah, Baby https:...|  false|          yeah baby |        [yeah, baby]|        [yeah, baby]|(20493,[527,816],...|(20493,[527,816],...|\n",
            "| mikepence_smom|          United States|             801|@SachaBaronCohen ...|  false|facebook russian ...|[facebook, russia...|[facebook, russia...|(20493,[163,587],...|(20493,[163,587],...|\n",
            "| Shaunya_Chavis|             Atlanta,GA|           17495|Day One Done ✅ #F...|  false|     day one done ✅ | [day, one, done, ✅]|            [day, ✅]|(20493,[37,1665],...|(20493,[37,1665],...|\n",
            "|  moseslopezART|   Whittier, Los Ang...|           19075|Trump's \"Million ...|  false|trump million mag...|[trump, million, ...|[trump, million, ...|(20493,[1,120,888...|(20493,[1,120,888...|\n",
            "|     kahn_steve|       Toronto, Ontario|             913|Democrats have ou...|  false|democrats have ou...|[democrats, have,...|[democrats, outdo...|(20493,[0,1,5,6,2...|(20493,[0,1,5,6,2...|\n",
            "|   RogD76788417|                    NaN|             750|@ABC Paper the wi...|  false|paper the windows...|[paper, the, wind...|[paper, windows, ...|(20493,[0,8,53,11...|(20493,[0,8,53,11...|\n",
            "|        MYGV0IR|HE/SHE! ★ 光と愛 ‹3\n",
            "...|           61617|@sohuikom tkk sup...|  false|tkk supporter jkk...|[tkk, supporter, ...|[tkk, supporter, ...| (20493,[680],[1.0])|(20493,[680],[5.8...|\n",
            "|   MichaelMaus6|     San Juanico Mexico|           43324|The reality ultim...|  false|the reality ultim...|[the, reality, ul...|[reality, ultimat...|(20493,[536,4036,...|(20493,[536,4036,...|\n",
            "|      envyk_blr|   Bengaluru South, ...|               1|Dear American Jou...|  false|dear american jou...|[dear, american, ...|[dear, american, ...|(20493,[4,63,564,...|(20493,[4,63,564,...|\n",
            "|        GGA_org|   Johannesburg, Sou...|             647|\"Consolidated dem...|  false|consolidated demo...|[consolidated, de...|[consolidated, de...|(20493,[183,223,2...|(20493,[183,223,2...|\n",
            "|   SirLordBalti|   The Kingdom of En...|            3682|The Low budget re...|  false|the low budget re...|[the, low, budget...|[low, budget, rem...|(20493,[38,50,341...|(20493,[38,50,341...|\n",
            "|  Hhorlamilekan|          Lagos,Nigeria|           11282|Dear @MBuhari , t...|  false|dear this issue g...|[dear, this, issu...|[dear, issue, get...|(20493,[17,124,21...|(20493,[17,124,21...|\n",
            "|     page36news|                Nigeria|            7474|BREAKING: End Of ...|  false|breaking end the ...|[breaking, end, t...|[breaking, end, r...|(20493,[7,62,63,1...|(20493,[7,62,63,1...|\n",
            "|   SimplySuvo92|       Raciborz, Poland|           30153|Judging by this i...|  false|judging this clea...|[judging, this, c...|[judging, clear, ...|(20493,[1,11,72,1...|(20493,[1,11,72,1...|\n",
            "| larslmortensen|                Denmark|            3346|Danish ex nationa...|  false|danish national p...|[danish, national...|[danish, national...|(20493,[13,22,76,...|(20493,[13,22,76,...|\n",
            "|       asankade|          Edinburgh, UK|            3447|Please don’t send...|  false|please don’ send ...|[please, don’, se...|[don’, send, coun...|(20493,[45,718,39...|(20493,[45,718,39...|\n",
            "+---------------+-----------------------+----------------+--------------------+-------+--------------------+--------------------+--------------------+--------------------+--------------------+\n",
            "only showing top 20 rows\n",
            "\n"
          ],
          "name": "stdout"
        }
      ]
    },
    {
      "cell_type": "code",
      "metadata": {
        "id": "ZovKGNwgg8YO",
        "outputId": "6fa72584-4228-491c-c0c6-f5287f4efc81",
        "colab": {
          "base_uri": "https://localhost:8080/"
        }
      },
      "source": [
        "#reading in sentiment parquet to label overall sentiment of each tweet\n",
        "sentiment = spark.read.parquet('sentiments.parquet')\n",
        "from pyspark.sql import functions as fn\n",
        "tweets_before.select('user', fn.explode('words').alias('word1')).show()"
      ],
      "execution_count": 15,
      "outputs": [
        {
          "output_type": "stream",
          "text": [
            "+--------------+------------+\n",
            "|          user|       word1|\n",
            "+--------------+------------+\n",
            "|   TerinaKelso|         say|\n",
            "|   TerinaKelso|       again|\n",
            "|   TerinaKelso|         for|\n",
            "|   TerinaKelso|         the|\n",
            "|   TerinaKelso|      people|\n",
            "|   TerinaKelso|         the|\n",
            "|   TerinaKelso|        back|\n",
            "|   TerinaKelso|         row|\n",
            "|BadTasteMedia7|  appreciate|\n",
            "|BadTasteMedia7|christianity|\n",
            "|BadTasteMedia7|         for|\n",
            "|BadTasteMedia7|      giving|\n",
            "|BadTasteMedia7|         our|\n",
            "|BadTasteMedia7|      morals|\n",
            "|BadTasteMedia7|         and|\n",
            "|BadTasteMedia7|         the|\n",
            "|BadTasteMedia7|      gospel|\n",
            "|BadTasteMedia7|         for|\n",
            "|BadTasteMedia7|      giving|\n",
            "|BadTasteMedia7|        rock|\n",
            "+--------------+------------+\n",
            "only showing top 20 rows\n",
            "\n"
          ],
          "name": "stdout"
        }
      ]
    },
    {
      "cell_type": "code",
      "metadata": {
        "id": "0NrXCZ_UhPda",
        "outputId": "3580592d-96f3-416c-9841-921550773abc",
        "colab": {
          "base_uri": "https://localhost:8080/"
        }
      },
      "source": [
        "new_df = tweets_before.\\\n",
        "    select('user', 'text', fn.explode('words').alias('word')).\\\n",
        "    join(sentiment, 'word')\n",
        "new_df.show(5)\n",
        "before_labeled = new_df.\\\n",
        "    groupBy('text').\\\n",
        "    agg(fn.avg('sentiment').alias('avg_sentiment')).\\\n",
        "    withColumn('predicted', fn.when(fn.col('avg_sentiment') > 0, 1.0).when(fn.col('avg_sentiment')<0, -1.0).otherwise(0.))\n",
        "before_labeled.show(5)"
      ],
      "execution_count": 16,
      "outputs": [
        {
          "output_type": "stream",
          "text": [
            "+----------+---------------+--------------------+---------+\n",
            "|      word|           user|                text|sentiment|\n",
            "+----------+---------------+--------------------+---------+\n",
            "|appreciate| BadTasteMedia7|I appreciate Chri...|        1|\n",
            "|      fuck| BadTasteMedia7|I appreciate Chri...|       -1|\n",
            "|      like| BadTasteMedia7|I appreciate Chri...|        1|\n",
            "|      fall|Horizonshealth2|FOODS THAT MAKE Y...|       -1|\n",
            "|     trump|  maskshirt2021|Without a mask he...|        1|\n",
            "+----------+---------------+--------------------+---------+\n",
            "only showing top 5 rows\n",
            "\n",
            "+--------------------+-------------+---------+\n",
            "|                text|avg_sentiment|predicted|\n",
            "+--------------------+-------------+---------+\n",
            "|#Twitter suspends...|         -1.0|     -1.0|\n",
            "|If you are follow...|         -1.0|     -1.0|\n",
            "|All jokes aside.....|         -1.0|     -1.0|\n",
            "|Hollywood persona...|         -1.0|     -1.0|\n",
            "|The left and Demo...|          0.0|      0.0|\n",
            "+--------------------+-------------+---------+\n",
            "only showing top 5 rows\n",
            "\n"
          ],
          "name": "stdout"
        }
      ]
    },
    {
      "cell_type": "code",
      "metadata": {
        "id": "ETzVLxO5hYlr",
        "outputId": "5d0a8527-8460-4781-b185-70c6113e0427",
        "colab": {
          "base_uri": "https://localhost:8080/"
        }
      },
      "source": [
        "after_df = tweets_after.\\\n",
        "    select('user', 'text', fn.explode('words').alias('word')).\\\n",
        "    join(sentiment, 'word')\n",
        "after_labeled = after_df.\\\n",
        "    groupBy('text').\\\n",
        "    agg(fn.avg('sentiment').alias('avg_sentiment')).\\\n",
        "    withColumn('predicted', fn.when(fn.col('avg_sentiment') > 0, 1.0).when(fn.col('avg_sentiment')<0, -1.0).otherwise(0.))\n",
        "after_labeled.show(5)"
      ],
      "execution_count": 20,
      "outputs": [
        {
          "output_type": "stream",
          "text": [
            "+--------------------+-------------------+---------+\n",
            "|                text|      avg_sentiment|predicted|\n",
            "+--------------------+-------------------+---------+\n",
            "|#DonaldTrump what...|               -1.0|     -1.0|\n",
            "|Biden might be ab...|                1.0|      1.0|\n",
            "|Yo, #JoeBiden nee...|               -1.0|     -1.0|\n",
            "|These mass gather...| 0.3333333333333333|      1.0|\n",
            "|'Most secure in h...|-0.3333333333333333|     -1.0|\n",
            "+--------------------+-------------------+---------+\n",
            "only showing top 5 rows\n",
            "\n"
          ],
          "name": "stdout"
        }
      ]
    },
    {
      "cell_type": "code",
      "metadata": {
        "id": "HkYNvOnsu46y",
        "outputId": "60a0a7ef-99dc-4c98-b050-ed85ab307c22",
        "colab": {
          "base_uri": "https://localhost:8080/"
        }
      },
      "source": [
        "final_after = tweets_after.join(after_labeled, on ='text',how='left')\n",
        "final_after.show()"
      ],
      "execution_count": 24,
      "outputs": [
        {
          "output_type": "stream",
          "text": [
            "+--------------------+---------------+--------------------+----------------+-------+--------------------+--------------------+--------------------+--------------------+--------------------+-------------------+---------+\n",
            "|                text|           user|            location|favourites_count|retweet|          clean_text|               words|            filtered|                  tf|               tfidf|      avg_sentiment|predicted|\n",
            "+--------------------+---------------+--------------------+----------------+-------+--------------------+--------------------+--------------------+--------------------+--------------------+-------------------+---------+\n",
            "|#Biden staffer wa...|    redbird1031|                 NaN|           10832|  false|staffer was arres...|[staffer, was, ar...|[staffer, arreste...|(20493,[25,68,97,...|(20493,[25,68,97,...|               -1.0|     -1.0|\n",
            "|#China sends '#Co...| digitaljournal|              Global|           24706|  false|              sends |             [sends]|             [sends]|(20493,[19262],[1...|(20493,[19262],[7...|               null|     null|\n",
            "|#Covid19 Is A #Hu...|  Marco73838565|                 NaN|           50301|  false|right here the un...|[right, here, the...|[right, united, s...|(20493,[0,22,28,8...|(20493,[0,22,28,8...|                0.0|      0.0|\n",
            "|#DonaldTrump what...|   kemper_elton|       Deer Creek Il|               1|  false|whats with stimul...|[whats, with, sti...|[whats, stimulus,...|(20493,[613,1366,...|(20493,[613,1366,...|               -1.0|     -1.0|\n",
            "|#MikePence the wo...|   musicman6955|          pittsburgh|            5003|  false|the worst kind sa...|[the, worst, kind...|[worst, kind, say...|(20493,[41,45,62,...|(20493,[41,45,62,...|               -1.0|     -1.0|\n",
            "|#Trump nut on tv ...| Princessluna11|           USA/Egypt|            1556|  false|nut said somethin...|[nut, said, somet...|[nut, said, count...|(20493,[27,51,538...|(20493,[27,51,538...|               null|     null|\n",
            "|#USElection2020 w...|  ProlificNorth|The North of England|            1689|  false|was like none oth...|[was, like, none,...|[like, candidates...|(20493,[8,56,62,1...|(20493,[8,56,62,1...|                0.0|      0.0|\n",
            "|#coinmasterfreesp...|    GunManchego|                 NaN|              42|  false|free coins and sp...|[free, coins, and...|[free, coins, spi...|(20493,[53,219,43...|(20493,[53,219,43...|                1.0|      1.0|\n",
            "|'Free speech' soc...|    wevoycenews|   Beverly Hills, CA|               2|  false|free speech socia...|[free, speech, so...|[free, speech, so...|(20493,[13,79,197...|(20493,[13,79,197...|                1.0|      1.0|\n",
            "|'Most secure in h...|      AaronDodd|Melbourne, Australia|              59|  false|most secure histo...|[most, secure, hi...|[secure, history,...|(20493,[13,204,47...|(20493,[13,204,47...|-0.3333333333333333|     -1.0|\n",
            "|@HobanGirl I've r...| SteelShodLever| South East, England|            7210|  false|read many them ev...|[read, many, them...|[read, fix, prove...|(20493,[0,12,43,9...|(20493,[0,12,43,9...|                0.0|      0.0|\n",
            "|@JBLNT1 @Jo_G6405...| mikepence_smom|       United States|             801|  false|stay and the lose...|[stay, and, the, ...|[stay, losers, “j...|(20493,[119,281,1...|(20493,[119,281,1...|               -1.0|     -1.0|\n",
            "|@MichaelSDoyle @_...| SafetyMentalst|          Texas, USA|          469425|  false|unites the people...|[unites, the, peo...|[unites, people, ...|(20493,[9,10,210,...|(20493,[9,10,210,...|                1.0|      1.0|\n",
            "|@Mike_Pence Why a...|TheTroubleWith8|With those making...|             191|  false|why are you suppo...|[why, are, you, s...|[supporting, madn...|(20493,[18,84,332...|(20493,[18,84,332...| 0.3333333333333333|      1.0|\n",
            "|@NotHoodlum He wi...|    jzunplugged|          Sacramento|            3053|  false|will promote this...|[will, promote, t...|[promote, fiction...|(20493,[20,133,20...|(20493,[20,133,20...|               -1.0|     -1.0|\n",
            "|@Number10cat The ...|Cosmic_Signpost|               Earth|           18800|  false|the result interp...|[the, result, int...|[result, interpre...|(20493,[1442,1562...|(20493,[1442,1562...|               null|     null|\n",
            "|@PressSec Next ti...|  BeachcomberNC|Sierra Vista, Ari...|           43406|  false|next time you wal...|[next, time, you,...|[time, walk, podi...|(20493,[0,1,2,12,...|(20493,[0,1,2,12,...| 0.3333333333333333|      1.0|\n",
            "|@SoundTheTrumpe5 ...|HenryAl07332400|                 NaN|            9558|  false|agreed donald tru...|[agreed, donald, ...|[agreed, donald, ...|(20493,[1,11,652,...|(20493,[1,11,652,...|                0.0|      0.0|\n",
            "|@erikbexp @realDo...|   lucecita0111|United Arab Emirates|           30244|  false|               hate |              [hate]|              [hate]| (20493,[291],[1.0])|(20493,[291],[5.1...|               -1.0|     -1.0|\n",
            "|@evsnkrs @MattGer...|    educatededu|                 NaN|           53048|  false|talking about kam...|[talking, about, ...|[talking, kamala,...|(20493,[12,14,125...|(20493,[12,14,125...|               null|     null|\n",
            "+--------------------+---------------+--------------------+----------------+-------+--------------------+--------------------+--------------------+--------------------+--------------------+-------------------+---------+\n",
            "only showing top 20 rows\n",
            "\n"
          ],
          "name": "stdout"
        }
      ]
    },
    {
      "cell_type": "code",
      "metadata": {
        "id": "GfCaN_RzvZAe",
        "outputId": "d12a48bd-8c29-4272-deec-c5f6e5f26de5",
        "colab": {
          "base_uri": "https://localhost:8080/"
        }
      },
      "source": [
        "final_before = tweets_before.join(before_labeled, on ='text',how='left')\n",
        "final_before.show()"
      ],
      "execution_count": 25,
      "outputs": [
        {
          "output_type": "stream",
          "text": [
            "+--------------------+---------------+--------------------+----------------+-------+--------------------+--------------------+--------------------+--------------------+--------------------+--------------------+-------------------+---------+\n",
            "|                text|           user|            location|favourites_count|retweet|            hashtage|          clean_text|               words|            filtered|                  tf|               tfidf|      avg_sentiment|predicted|\n",
            "+--------------------+---------------+--------------------+----------------+-------+--------------------+--------------------+--------------------+--------------------+--------------------+--------------------+-------------------+---------+\n",
            "|\"#POTUS News: #Tr...| robinsnewswire|RT's Are FYI Purp...|             544|  false|[#POTUS, #Trump, ...|news says not hap...|[news, says, not,...|[news, says, happ...|(20493,[44,62,459...|(20493,[44,62,459...|                1.0|      1.0|\n",
            "|\"When somebody is...|RightWingQuotes|     Right Coast USA|             130|  false|[#MAGA, #Election...|when somebody pre...|[when, somebody, ...|[somebody, presid...|(20493,[1,7,11,25...|(20493,[1,7,11,25...|                0.0|      0.0|\n",
            "|#California reque...|     1RoguePoet|    Vancouver Island|            2971|  false|[#California, #di...|requested relief ...|[requested, relie...|[requested, relie...|(20493,[1,4,51,28...|(20493,[1,4,51,28...|               -0.5|     -1.0|\n",
            "|#DonaldTrump is f...|     ej4freedom|  Salt Lake City, UT|             923|  false|[#DonaldTrump, #J...|far from presiden...|[far, from, presi...|[far, presidentia...|(20493,[32,58,75,...|(20493,[32,58,75,...|               -1.0|     -1.0|\n",
            "|#DonaldTrump uses...| andThisAndThat|        Mother Earth|           25595|  false|[#DonaldTrump, #C...|uses people wants...|[uses, people, wa...|[uses, people, wa...|(20493,[9,16,47,9...|(20493,[9,16,47,9...|               -0.5|     -1.0|\n",
            "|#DonaldTrump uses...| andThisAndThat|        Mother Earth|           25594|  false|[#DonaldTrump, #C...|uses people wants...|[uses, people, wa...|[uses, people, wa...|(20493,[9,16,47,9...|(20493,[9,16,47,9...|               -0.5|     -1.0|\n",
            "|#EURUSD Focus on ...|  authorbtwomey|       Rock Hill, SC|            9138|  false|[#EURUSD, #VoteBy...|focus wrong cause...|[focus, wrong, ca...|[focus, wrong, ca...|(20493,[90,231,26...|(20493,[90,231,26...|                0.0|      0.0|\n",
            "|#Election2020 Acc...|   MadisonNBCMT|        Missoula, MT|            2704|  false|[#Election2020, #...|according the sec...|[according, the, ...|[according, secre...|(20493,[38,60,65,...|(20493,[38,60,65,...|               null|     null|\n",
            "|#Election2020 — U...|      CSOonline|   Framingham, Mass.|           10334|  false|[#Election2020, #...|— intel amp cyber...|[—, intel, amp, c...|[—, intel, amp, c...|(20493,[4,75,197,...|(20493,[4,75,197,...|               -1.0|     -1.0|\n",
            "|#KamalaHarris usd...|      evers_oak|United States of ...|           15053|  false|[#KamalaHarris, #...|usd the campaign ...|[usd, the, campai...|[usd, campaign, p...|(20493,[6,20,58,8...|(20493,[6,20,58,8...|               null|     null|\n",
            "|#Twitter suspends...|      ChatLeRoy|                 NaN|            5151|  false|[#Twitter, #Black...|suspends accounts...|[suspends, accoun...|[suspends, accoun...|(20493,[186,291,4...|(20493,[186,291,4...|               -1.0|     -1.0|\n",
            "|#debate2020: Pres...| YHMHComicStrip|                 NaN|             968|  false|[#debate2020, #de...|presidential edit...|[presidential, ed...|[presidential, ed...|(20493,[58,3089],...|(20493,[58,3089],...|               null|     null|\n",
            "|18 days until #El...|   craiggorsuch|                 NaN|            4052|  false|     [#Election2020]|days until just r...|[days, until, jus...|[days, just, remi...|(20493,[6,15,65,8...|(20493,[6,15,65,8...|-0.3333333333333333|     -1.0|\n",
            "|@Acyn In the word...| Smp971Alkaloid|           Australia|           58257|  false|            [#Trump]|the words support...|[the, words, supp...|[words, supporter...|(20493,[316,680,1...|(20493,[316,680,1...|                0.0|      0.0|\n",
            "|@Acyn In the word...| Smp971Alkaloid|           Australia|           58177|  false|            [#Trump]|the words support...|[the, words, supp...|[words, supporter...|(20493,[316,680,1...|(20493,[316,680,1...|                0.0|      0.0|\n",
            "|@BBCNewsPR @BBCWo...|Katie_Murphy776|Belfast, Northern...|            7583|  false|[#Elections2020, ...|don know why the ...|[don, know, why, ...|[don, know, bbc, ...|(20493,[1,7,18,24...|(20493,[1,7,18,24...|                1.0|      1.0|\n",
            "|@DanRather I’m wa...|      AuroraO83|                 NaN|          324470|  false|                  []|’ watching the on...|[’, watching, the...|[’, watching, man...|(20493,[0,1,2,5,7...|(20493,[0,1,2,5,7...| 0.7142857142857143|      1.0|\n",
            "|@DonaldJTrumpJr I...|gmkitzingergma1|                 NaN|            1326|  false|                  []|brazil yes joe bi...|[brazil, yes, joe...|[brazil, yes, joe...|(20493,[0,2,7,136...|(20493,[0,2,7,136...|               null|     null|\n",
            "|@HubbHolly @DeeDe...|BlancaCamachoNY|City so nice, nam...|          283098|  false|[#ByeDon2020, #Vo...|exactly and yet t...|[exactly, and, ye...|[exactly, trump, ...|(20493,[1,37,123,...|(20493,[1,37,123,...|               -0.5|     -1.0|\n",
            "|@Jentezen #God #M...|DaviesERodrigu2|                 NaN|             847|  false|[#God, #Moises, #...|this nation for g...|[this, nation, fo...|[nation, god, nat...|(20493,[1,7,55,10...|(20493,[1,7,55,10...|-0.3333333333333333|     -1.0|\n",
            "+--------------------+---------------+--------------------+----------------+-------+--------------------+--------------------+--------------------+--------------------+--------------------+--------------------+-------------------+---------+\n",
            "only showing top 20 rows\n",
            "\n"
          ],
          "name": "stdout"
        }
      ]
    },
    {
      "cell_type": "code",
      "metadata": {
        "id": "oetZCl9Qz81o",
        "outputId": "2e4a168f-69a2-4b82-e169-ee31c9aee94c",
        "colab": {
          "base_uri": "https://localhost:8080/"
        }
      },
      "source": [
        "from pyspark.sql import functions as F\n",
        "final_before.filter(F.isnull(\"predicted\")).show()"
      ],
      "execution_count": 49,
      "outputs": [
        {
          "output_type": "stream",
          "text": [
            "+--------------------+---------------+--------------------+----------------+-------+--------------------+--------------------+--------------------+--------------------+--------------------+--------------------+-------------+---------+\n",
            "|                text|           user|            location|favourites_count|retweet|            hashtage|          clean_text|               words|            filtered|                  tf|               tfidf|avg_sentiment|predicted|\n",
            "+--------------------+---------------+--------------------+----------------+-------+--------------------+--------------------+--------------------+--------------------+--------------------+--------------------+-------------+---------+\n",
            "|#Election2020 Acc...|   MadisonNBCMT|        Missoula, MT|            2704|  false|[#Election2020, #...|according the sec...|[according, the, ...|[according, secre...|(20493,[38,60,65,...|(20493,[38,60,65,...|         null|     null|\n",
            "|#KamalaHarris usd...|      evers_oak|United States of ...|           15053|  false|[#KamalaHarris, #...|usd the campaign ...|[usd, the, campai...|[usd, campaign, p...|(20493,[6,20,58,8...|(20493,[6,20,58,8...|         null|     null|\n",
            "|#debate2020: Pres...| YHMHComicStrip|                 NaN|             968|  false|[#debate2020, #de...|presidential edit...|[presidential, ed...|[presidential, ed...|(20493,[58,3089],...|(20493,[58,3089],...|         null|     null|\n",
            "|@DonaldJTrumpJr I...|gmkitzingergma1|                 NaN|            1326|  false|                  []|brazil yes joe bi...|[brazil, yes, joe...|[brazil, yes, joe...|(20493,[0,2,7,136...|(20493,[0,2,7,136...|         null|     null|\n",
            "|A tale of two hom...|solar_power_usa|       United States|              15|  false|[#AmazonPrimeDay,...| tale two homes via |[tale, two, homes...|       [tale, homes]|(20493,[1851,7917...|(20493,[1851,7917...|         null|     null|\n",
            "|Another pro #Trum...|NoNusticiaNoPaz|       United States|           40742|  false|[#Trump, #Russia,...|another pro uses ...|[another, pro, us...|[pro, uses, foota...|(20493,[17,342,38...|(20493,[17,342,38...|         null|     null|\n",
            "|Bears for Biden!!...|sassafraslowrey|Portland, OR form...|            4645|  false|[#bidenharris2020...|    bears for biden | [bears, for, biden]|      [bears, biden]|(20493,[0,12111],...|(20493,[0,12111],...|         null|     null|\n",
            "|Early voting in R...|       cherbest|         Augusta Ga.|             676|  false|[#VoteEarly, #Vot...|early voting rich...|[early, voting, r...|[early, voting, r...|(20493,[15,21,27,...|(20493,[15,21,27,...|         null|     null|\n",
            "|Gagne: I'm not th...|AgassizObserver|Agassiz, B.C. Canada|              63|  false|[#bcpoli, #Debate...|gagne not the typ...|[gagne, not, the,...|[gagne, type, per...|(20493,[41,80,179...|(20493,[41,80,179...|         null|     null|\n",
            "|I voted #Biden202...|          yakjp|         Rocklin, CA|            2566|  false|[#Biden2020, #NBC...|              voted |             [voted]|             [voted]|  (20493,[60],[1.0])|(20493,[60],[4.04...|         null|     null|\n",
            "|Joe Biden Preside...|    nitescandle|Chicago, Illinois...|             987|  false|           [#harris]|joe biden preside...|[joe, biden, pres...|[joe, biden, pres...|(20493,[0,2,7,13,...|(20493,[0,2,7,13,...|         null|     null|\n",
            "|Steve Martin’s #M...|     hot933hits|        Dallas Texas|            6730|  false|        [#MikePence]|steve martin’ hal...|[steve, martin’, ...|[steve, martin’, ...|(20493,[293,802,2...|(20493,[293,802,2...|         null|     null|\n",
            "|The #EarlyVoteCha...|      HoustonTX|    Houston, TX, USA|            2236|  false|[#EarlyVoteChalle...|the continues for...|[the, continues, ...|[continues, amp, ...|(20493,[4,296,692...|(20493,[4,296,692...|         null|     null|\n",
            "|The answer is no....|     iamaniesia|         Raleigh, NC|           69400|  false|[#Debate2020, #AB...|the answer didn’ ...|[the, answer, did...|[answer, didn’, h...|(20493,[140,143,3...|(20493,[140,143,3...|         null|     null|\n",
            "|There's also info...|JuliaMDendinger|          New Mexico|           11143|  false|         [#vote2020]|there also info a...|[there, also, inf...|[info, bonds, con...|(20493,[313,393,9...|(20493,[313,393,9...|         null|     null|\n",
            "|These folks own k...|    divasocials|                 NaN|            1823|  false|                  []|these folks own k...|[these, folks, ow...|[folks, kids, tel...|(20493,[0,2,3,12,...|(20493,[0,2,3,12,...|         null|     null|\n",
            "|Train up a child ...|       mrsclynn|          Dallas, TX|            7559|  false|[#earlyvotingtexa...|train child the w...|[train, child, th...|[train, child, wa...|(20493,[49,177,77...|(20493,[49,177,77...|         null|     null|\n",
            "|Under #mapoli law...|     KateforRep|                 NaN|            3050|  false|[#mapoli, #EarlyV...|under law there a...|[under, law, ther...|[law, days, inclu...|(20493,[3,4,16,19...|(20493,[3,4,16,19...|         null|     null|\n",
            "|Under #mapoli law...|     KateforRep|                 NaN|            3044|  false|[#mapoli, #EarlyV...|under law there a...|[under, law, ther...|[law, days, inclu...|(20493,[3,4,16,19...|(20493,[3,4,16,19...|         null|     null|\n",
            "|Waiting for the f...|       seamar01|Washington, DC/Sa...|            1426|  false|[#VOTE, #Election...|waiting for the f...|[waiting, for, th...|[waiting, fly, ma...|(20493,[257,264,6...|(20493,[257,264,6...|         null|     null|\n",
            "+--------------------+---------------+--------------------+----------------+-------+--------------------+--------------------+--------------------+--------------------+--------------------+--------------------+-------------+---------+\n",
            "only showing top 20 rows\n",
            "\n"
          ],
          "name": "stdout"
        }
      ]
    },
    {
      "cell_type": "code",
      "metadata": {
        "id": "qgqN5NaX05el"
      },
      "source": [
        "final_before = final_before.na.fill(0,(\"predicted\"))"
      ],
      "execution_count": 53,
      "outputs": []
    },
    {
      "cell_type": "code",
      "metadata": {
        "id": "fYgi487-1nhJ"
      },
      "source": [
        "final_after = final_after.na.fill(0,(\"predicted\"))"
      ],
      "execution_count": 55,
      "outputs": []
    },
    {
      "cell_type": "code",
      "metadata": {
        "id": "ZPXngw1b1Pro",
        "outputId": "6c0887fe-68e1-49de-cf92-91bd638328e5",
        "colab": {
          "base_uri": "https://localhost:8080/"
        }
      },
      "source": [
        "final_before.show()"
      ],
      "execution_count": 54,
      "outputs": [
        {
          "output_type": "stream",
          "text": [
            "+--------------------+---------------+--------------------+----------------+-------+--------------------+--------------------+--------------------+--------------------+--------------------+--------------------+-------------------+---------+\n",
            "|                text|           user|            location|favourites_count|retweet|            hashtage|          clean_text|               words|            filtered|                  tf|               tfidf|      avg_sentiment|predicted|\n",
            "+--------------------+---------------+--------------------+----------------+-------+--------------------+--------------------+--------------------+--------------------+--------------------+--------------------+-------------------+---------+\n",
            "|\"#POTUS News: #Tr...| robinsnewswire|RT's Are FYI Purp...|             544|  false|[#POTUS, #Trump, ...|news says not hap...|[news, says, not,...|[news, says, happ...|(20493,[44,62,459...|(20493,[44,62,459...|                1.0|      1.0|\n",
            "|\"When somebody is...|RightWingQuotes|     Right Coast USA|             130|  false|[#MAGA, #Election...|when somebody pre...|[when, somebody, ...|[somebody, presid...|(20493,[1,7,11,25...|(20493,[1,7,11,25...|                0.0|      0.0|\n",
            "|#California reque...|     1RoguePoet|    Vancouver Island|            2971|  false|[#California, #di...|requested relief ...|[requested, relie...|[requested, relie...|(20493,[1,4,51,28...|(20493,[1,4,51,28...|               -0.5|     -1.0|\n",
            "|#DonaldTrump is f...|     ej4freedom|  Salt Lake City, UT|             923|  false|[#DonaldTrump, #J...|far from presiden...|[far, from, presi...|[far, presidentia...|(20493,[32,58,75,...|(20493,[32,58,75,...|               -1.0|     -1.0|\n",
            "|#DonaldTrump uses...| andThisAndThat|        Mother Earth|           25595|  false|[#DonaldTrump, #C...|uses people wants...|[uses, people, wa...|[uses, people, wa...|(20493,[9,16,47,9...|(20493,[9,16,47,9...|               -0.5|     -1.0|\n",
            "|#DonaldTrump uses...| andThisAndThat|        Mother Earth|           25594|  false|[#DonaldTrump, #C...|uses people wants...|[uses, people, wa...|[uses, people, wa...|(20493,[9,16,47,9...|(20493,[9,16,47,9...|               -0.5|     -1.0|\n",
            "|#EURUSD Focus on ...|  authorbtwomey|       Rock Hill, SC|            9138|  false|[#EURUSD, #VoteBy...|focus wrong cause...|[focus, wrong, ca...|[focus, wrong, ca...|(20493,[90,231,26...|(20493,[90,231,26...|                0.0|      0.0|\n",
            "|#Election2020 Acc...|   MadisonNBCMT|        Missoula, MT|            2704|  false|[#Election2020, #...|according the sec...|[according, the, ...|[according, secre...|(20493,[38,60,65,...|(20493,[38,60,65,...|               null|      0.0|\n",
            "|#Election2020 — U...|      CSOonline|   Framingham, Mass.|           10334|  false|[#Election2020, #...|— intel amp cyber...|[—, intel, amp, c...|[—, intel, amp, c...|(20493,[4,75,197,...|(20493,[4,75,197,...|               -1.0|     -1.0|\n",
            "|#KamalaHarris usd...|      evers_oak|United States of ...|           15053|  false|[#KamalaHarris, #...|usd the campaign ...|[usd, the, campai...|[usd, campaign, p...|(20493,[6,20,58,8...|(20493,[6,20,58,8...|               null|      0.0|\n",
            "|#Twitter suspends...|      ChatLeRoy|                 NaN|            5151|  false|[#Twitter, #Black...|suspends accounts...|[suspends, accoun...|[suspends, accoun...|(20493,[186,291,4...|(20493,[186,291,4...|               -1.0|     -1.0|\n",
            "|#debate2020: Pres...| YHMHComicStrip|                 NaN|             968|  false|[#debate2020, #de...|presidential edit...|[presidential, ed...|[presidential, ed...|(20493,[58,3089],...|(20493,[58,3089],...|               null|      0.0|\n",
            "|18 days until #El...|   craiggorsuch|                 NaN|            4052|  false|     [#Election2020]|days until just r...|[days, until, jus...|[days, just, remi...|(20493,[6,15,65,8...|(20493,[6,15,65,8...|-0.3333333333333333|     -1.0|\n",
            "|@Acyn In the word...| Smp971Alkaloid|           Australia|           58257|  false|            [#Trump]|the words support...|[the, words, supp...|[words, supporter...|(20493,[316,680,1...|(20493,[316,680,1...|                0.0|      0.0|\n",
            "|@Acyn In the word...| Smp971Alkaloid|           Australia|           58177|  false|            [#Trump]|the words support...|[the, words, supp...|[words, supporter...|(20493,[316,680,1...|(20493,[316,680,1...|                0.0|      0.0|\n",
            "|@BBCNewsPR @BBCWo...|Katie_Murphy776|Belfast, Northern...|            7583|  false|[#Elections2020, ...|don know why the ...|[don, know, why, ...|[don, know, bbc, ...|(20493,[1,7,18,24...|(20493,[1,7,18,24...|                1.0|      1.0|\n",
            "|@DanRather I’m wa...|      AuroraO83|                 NaN|          324470|  false|                  []|’ watching the on...|[’, watching, the...|[’, watching, man...|(20493,[0,1,2,5,7...|(20493,[0,1,2,5,7...| 0.7142857142857143|      1.0|\n",
            "|@DonaldJTrumpJr I...|gmkitzingergma1|                 NaN|            1326|  false|                  []|brazil yes joe bi...|[brazil, yes, joe...|[brazil, yes, joe...|(20493,[0,2,7,136...|(20493,[0,2,7,136...|               null|      0.0|\n",
            "|@HubbHolly @DeeDe...|BlancaCamachoNY|City so nice, nam...|          283098|  false|[#ByeDon2020, #Vo...|exactly and yet t...|[exactly, and, ye...|[exactly, trump, ...|(20493,[1,37,123,...|(20493,[1,37,123,...|               -0.5|     -1.0|\n",
            "|@Jentezen #God #M...|DaviesERodrigu2|                 NaN|             847|  false|[#God, #Moises, #...|this nation for g...|[this, nation, fo...|[nation, god, nat...|(20493,[1,7,55,10...|(20493,[1,7,55,10...|-0.3333333333333333|     -1.0|\n",
            "+--------------------+---------------+--------------------+----------------+-------+--------------------+--------------------+--------------------+--------------------+--------------------+--------------------+-------------------+---------+\n",
            "only showing top 20 rows\n",
            "\n"
          ],
          "name": "stdout"
        }
      ]
    },
    {
      "cell_type": "code",
      "metadata": {
        "id": "0FS-uwl7vy6G"
      },
      "source": [
        "after_df = pd.read_csv(\"tweet_after.csv\")\n",
        "before_df = pd.read_csv(\"tweets.csv\")"
      ],
      "execution_count": 30,
      "outputs": []
    },
    {
      "cell_type": "markdown",
      "metadata": {
        "id": "EFE41Cq6vh8Q"
      },
      "source": [
        "#Labeling With TextBlob"
      ]
    },
    {
      "cell_type": "code",
      "metadata": {
        "id": "z06M3w1CkpXj"
      },
      "source": [
        "# clean tweet\n",
        "from string import punctuation\n",
        "def clean_tweet(tweet):\n",
        "    # Remove hyperlinks\n",
        "    tweet = re.sub(\"https?://[A-Za-z0-9./]*\",\"\",tweet)\n",
        "    # Remove hashtags\n",
        "    tweet = re.sub(r'#\\w*', '', tweet)\n",
        "    # Remove tickers\n",
        "    tweet = re.sub(r'\\$\\w*', '', tweet)\n",
        "    #@user -> at_user\n",
        "    tweet = re.sub(\"@[\\w]*\",\"\",tweet)\n",
        "    # To lowercase\n",
        "    tweet = tweet.lower()\n",
        "    # Remove Punctuation and split 's, 't, 've with a space for filter\n",
        "    tweet = re.sub(r'[' + punctuation.replace('@', '') + ']+', ' ', tweet)\n",
        "    # Remove words: I, a , am, me (2 or less letters)\n",
        "    tweet = re.sub(r'\\b\\w{1,2}\\b', '', tweet)\n",
        "    # Remove whitespace (including new line characters)\n",
        "    tweet = re.sub(r'\\s\\s+', ' ', tweet)\n",
        "    # Remove single space remaining at the front of the tweet.\n",
        "    tweet = tweet.lstrip(' ') \n",
        "    # Remove emojis or other. special characters\n",
        "    tweet = ''.join(c for c in tweet if c <= '\\uFFFF') \n",
        "    return tweet  \n"
      ],
      "execution_count": 31,
      "outputs": []
    },
    {
      "cell_type": "code",
      "metadata": {
        "id": "40M2UumamNof",
        "outputId": "9a45abb9-bd48-4e5a-d4eb-82ad17dee119",
        "colab": {
          "base_uri": "https://localhost:8080/"
        }
      },
      "source": [
        "after_df.dtypes"
      ],
      "execution_count": 32,
      "outputs": [
        {
          "output_type": "execute_result",
          "data": {
            "text/plain": [
              "user                 object\n",
              "id                  float64\n",
              "location             object\n",
              "date                 object\n",
              "favourites_count    float64\n",
              "text                 object\n",
              "retweet              object\n",
              "dtype: object"
            ]
          },
          "metadata": {
            "tags": []
          },
          "execution_count": 32
        }
      ]
    },
    {
      "cell_type": "code",
      "metadata": {
        "id": "JyXBsozDmas8"
      },
      "source": [
        "after_df['text'] = after_df.text.apply(str)"
      ],
      "execution_count": 33,
      "outputs": []
    },
    {
      "cell_type": "code",
      "metadata": {
        "id": "xgWa-M9WmLT5",
        "outputId": "00ec56cb-94a8-4164-f175-2af3684575cb",
        "colab": {
          "base_uri": "https://localhost:8080/",
          "height": 289
        }
      },
      "source": [
        "after_df['clean_text'] = after_df['text'].apply(lambda x: clean_tweet(x))\n",
        "after_df.head()"
      ],
      "execution_count": 34,
      "outputs": [
        {
          "output_type": "execute_result",
          "data": {
            "text/html": [
              "<div>\n",
              "<style scoped>\n",
              "    .dataframe tbody tr th:only-of-type {\n",
              "        vertical-align: middle;\n",
              "    }\n",
              "\n",
              "    .dataframe tbody tr th {\n",
              "        vertical-align: top;\n",
              "    }\n",
              "\n",
              "    .dataframe thead th {\n",
              "        text-align: right;\n",
              "    }\n",
              "</style>\n",
              "<table border=\"1\" class=\"dataframe\">\n",
              "  <thead>\n",
              "    <tr style=\"text-align: right;\">\n",
              "      <th></th>\n",
              "      <th>user</th>\n",
              "      <th>id</th>\n",
              "      <th>location</th>\n",
              "      <th>date</th>\n",
              "      <th>favourites_count</th>\n",
              "      <th>text</th>\n",
              "      <th>retweet</th>\n",
              "      <th>clean_text</th>\n",
              "    </tr>\n",
              "  </thead>\n",
              "  <tbody>\n",
              "    <tr>\n",
              "      <th>0</th>\n",
              "      <td>Hskers62</td>\n",
              "      <td>9.081270e+17</td>\n",
              "      <td>United States</td>\n",
              "      <td>9/14/17</td>\n",
              "      <td>197954.0</td>\n",
              "      <td>Donald Trump is the only president in history ...</td>\n",
              "      <td>True</td>\n",
              "      <td>donald trump the only president history have b...</td>\n",
              "    </tr>\n",
              "    <tr>\n",
              "      <th>1</th>\n",
              "      <td>JMZJEWELRY</td>\n",
              "      <td>8.826030e+17</td>\n",
              "      <td>Here and there</td>\n",
              "      <td>7/5/17</td>\n",
              "      <td>3652.0</td>\n",
              "      <td>Joe Biden got 306 Electoral College votes by w...</td>\n",
              "      <td>True</td>\n",
              "      <td>joe biden got 306 electoral college votes winn...</td>\n",
              "    </tr>\n",
              "    <tr>\n",
              "      <th>2</th>\n",
              "      <td>lrogers66821</td>\n",
              "      <td>1.004390e+18</td>\n",
              "      <td>Cincinnati, OH</td>\n",
              "      <td>6/6/18</td>\n",
              "      <td>369957.0</td>\n",
              "      <td>Deutsche Bank, which funded Auschwitz, Donald ...</td>\n",
              "      <td>True</td>\n",
              "      <td>deutsche bank which funded auschwitz donald tr...</td>\n",
              "    </tr>\n",
              "    <tr>\n",
              "      <th>3</th>\n",
              "      <td>LizNYC66</td>\n",
              "      <td>8.927390e+17</td>\n",
              "      <td>Manhattan, NY</td>\n",
              "      <td>8/2/17</td>\n",
              "      <td>33175.0</td>\n",
              "      <td>The Biden administration is sure to come under...</td>\n",
              "      <td>True</td>\n",
              "      <td>the biden administration sure come under press...</td>\n",
              "    </tr>\n",
              "    <tr>\n",
              "      <th>4</th>\n",
              "      <td>thia89837769</td>\n",
              "      <td>1.214570e+18</td>\n",
              "      <td>Ottawa, Ontario</td>\n",
              "      <td>1/7/20</td>\n",
              "      <td>5580.0</td>\n",
              "      <td>Donald Trump is the only president in history ...</td>\n",
              "      <td>True</td>\n",
              "      <td>donald trump the only president history have b...</td>\n",
              "    </tr>\n",
              "  </tbody>\n",
              "</table>\n",
              "</div>"
            ],
            "text/plain": [
              "           user  ...                                         clean_text\n",
              "0      Hskers62  ...  donald trump the only president history have b...\n",
              "1    JMZJEWELRY  ...  joe biden got 306 electoral college votes winn...\n",
              "2  lrogers66821  ...  deutsche bank which funded auschwitz donald tr...\n",
              "3      LizNYC66  ...  the biden administration sure come under press...\n",
              "4  thia89837769  ...  donald trump the only president history have b...\n",
              "\n",
              "[5 rows x 8 columns]"
            ]
          },
          "metadata": {
            "tags": []
          },
          "execution_count": 34
        }
      ]
    },
    {
      "cell_type": "code",
      "metadata": {
        "id": "TkRE0qcZlt1s",
        "outputId": "b14c9494-e20c-4593-accc-d317fd128cce",
        "colab": {
          "base_uri": "https://localhost:8080/",
          "height": 357
        }
      },
      "source": [
        "before_df['text'] = before_df.text.apply(str)\n",
        "before_df['clean_text'] = before_df['text'].apply(lambda x: clean_tweet(x))\n",
        "before_df.head()"
      ],
      "execution_count": 35,
      "outputs": [
        {
          "output_type": "execute_result",
          "data": {
            "text/html": [
              "<div>\n",
              "<style scoped>\n",
              "    .dataframe tbody tr th:only-of-type {\n",
              "        vertical-align: middle;\n",
              "    }\n",
              "\n",
              "    .dataframe tbody tr th {\n",
              "        vertical-align: top;\n",
              "    }\n",
              "\n",
              "    .dataframe thead th {\n",
              "        text-align: right;\n",
              "    }\n",
              "</style>\n",
              "<table border=\"1\" class=\"dataframe\">\n",
              "  <thead>\n",
              "    <tr style=\"text-align: right;\">\n",
              "      <th></th>\n",
              "      <th>user</th>\n",
              "      <th>id</th>\n",
              "      <th>location</th>\n",
              "      <th>date</th>\n",
              "      <th>favourites_count</th>\n",
              "      <th>text</th>\n",
              "      <th>retweet</th>\n",
              "      <th>clean_text</th>\n",
              "    </tr>\n",
              "  </thead>\n",
              "  <tbody>\n",
              "    <tr>\n",
              "      <th>0</th>\n",
              "      <td>PatsFan876</td>\n",
              "      <td>2.999235e+09</td>\n",
              "      <td>NaN</td>\n",
              "      <td>42030</td>\n",
              "      <td>359685</td>\n",
              "      <td>Busting stereotypes here... I'm a truck drivin...</td>\n",
              "      <td>True</td>\n",
              "      <td>busting stereotypes here truck driving country...</td>\n",
              "    </tr>\n",
              "    <tr>\n",
              "      <th>1</th>\n",
              "      <td>Yasu_Al_Masih</td>\n",
              "      <td>8.830000e+17</td>\n",
              "      <td>Nazareth</td>\n",
              "      <td>42923</td>\n",
              "      <td>15736</td>\n",
              "      <td>I COULDN'T RESIST POSTING THIS ONE!🤣😂🤣😂🤣🤣🤣 🤦‍♀...</td>\n",
              "      <td>True</td>\n",
              "      <td>couldn resist posting this one  ‍♀️‍♀️‍♀️ enjo...</td>\n",
              "    </tr>\n",
              "    <tr>\n",
              "      <th>2</th>\n",
              "      <td>JBK11</td>\n",
              "      <td>1.503627e+07</td>\n",
              "      <td>Canada</td>\n",
              "      <td>39606</td>\n",
              "      <td>43347</td>\n",
              "      <td>Busting stereotypes here... I'm a truck drivin...</td>\n",
              "      <td>True</td>\n",
              "      <td>busting stereotypes here truck driving country...</td>\n",
              "    </tr>\n",
              "    <tr>\n",
              "      <th>3</th>\n",
              "      <td>SoyElG</td>\n",
              "      <td>3.209835e+07</td>\n",
              "      <td>NaN</td>\n",
              "      <td>39919</td>\n",
              "      <td>432</td>\n",
              "      <td>The dismissive hand wave is what’s most disres...</td>\n",
              "      <td>False</td>\n",
              "      <td>the dismissive hand wave what’ most disrespect...</td>\n",
              "    </tr>\n",
              "    <tr>\n",
              "      <th>4</th>\n",
              "      <td>cynthianatalie</td>\n",
              "      <td>2.110394e+07</td>\n",
              "      <td>Los Angeles</td>\n",
              "      <td>39861</td>\n",
              "      <td>4952</td>\n",
              "      <td>Inside #DonaldTrump's \"serial bad behavior\" at...</td>\n",
              "      <td>True</td>\n",
              "      <td>inside serial bad behavior nbc</td>\n",
              "    </tr>\n",
              "  </tbody>\n",
              "</table>\n",
              "</div>"
            ],
            "text/plain": [
              "             user  ...                                         clean_text\n",
              "0      PatsFan876  ...  busting stereotypes here truck driving country...\n",
              "1   Yasu_Al_Masih  ...  couldn resist posting this one  ‍♀️‍♀️‍♀️ enjo...\n",
              "2           JBK11  ...  busting stereotypes here truck driving country...\n",
              "3          SoyElG  ...  the dismissive hand wave what’ most disrespect...\n",
              "4  cynthianatalie  ...                    inside serial bad behavior nbc \n",
              "\n",
              "[5 rows x 8 columns]"
            ]
          },
          "metadata": {
            "tags": []
          },
          "execution_count": 35
        }
      ]
    },
    {
      "cell_type": "code",
      "metadata": {
        "id": "E0O0ggntl-OP"
      },
      "source": [
        "#after_df.head()\n",
        "after_df['clean_text'] = after_df.text.apply(str)"
      ],
      "execution_count": 36,
      "outputs": []
    },
    {
      "cell_type": "code",
      "metadata": {
        "id": "mbzPNEaom-En"
      },
      "source": [
        "before_df['clean_text'] = before_df.text.apply(str)"
      ],
      "execution_count": 37,
      "outputs": []
    },
    {
      "cell_type": "code",
      "metadata": {
        "id": "GqBE9DDti4er"
      },
      "source": [
        "from textblob import TextBlob\n",
        "def get_tweet_sentiment(tweet): \n",
        "    '''Utility function to classify sentiment of passed tweet using textblob's sentiment method'''\n",
        "    # create TextBlob object of passed tweet text \n",
        "    analysis = TextBlob(tweet) \n",
        "    # set sentiment \n",
        "    if analysis.sentiment.polarity > 0:\n",
        "        return '1'\n",
        "    elif analysis.sentiment.polarity == 0: \n",
        "        return '0'\n",
        "    else: \n",
        "        return '-1'"
      ],
      "execution_count": 38,
      "outputs": []
    },
    {
      "cell_type": "code",
      "metadata": {
        "id": "dL2b1hZ5mvWF"
      },
      "source": [
        "before_df['tb_label'] = before_df['clean_text'].apply(lambda x: get_tweet_sentiment(' '.join(x)))"
      ],
      "execution_count": 39,
      "outputs": []
    },
    {
      "cell_type": "code",
      "metadata": {
        "id": "uDuGIhkkm1yy"
      },
      "source": [
        "after_df['tb_label']= after_df['clean_text'].apply(lambda x: get_tweet_sentiment(' '.join(x)))"
      ],
      "execution_count": 40,
      "outputs": []
    },
    {
      "cell_type": "code",
      "metadata": {
        "id": "zH4kuZYWoNG3"
      },
      "source": [
        "before_df['tb_label'] = before_df.tb_label.apply(int)\n",
        "after_df['tb_label'] = after_df.tb_label.apply(int)"
      ],
      "execution_count": 43,
      "outputs": []
    },
    {
      "cell_type": "code",
      "metadata": {
        "id": "HE9wc_srv-6T",
        "outputId": "b5a52a14-0f0e-4344-8e16-91da73349183",
        "colab": {
          "base_uri": "https://localhost:8080/",
          "height": 391
        }
      },
      "source": [
        "before_df.head()"
      ],
      "execution_count": 46,
      "outputs": [
        {
          "output_type": "execute_result",
          "data": {
            "text/html": [
              "<div>\n",
              "<style scoped>\n",
              "    .dataframe tbody tr th:only-of-type {\n",
              "        vertical-align: middle;\n",
              "    }\n",
              "\n",
              "    .dataframe tbody tr th {\n",
              "        vertical-align: top;\n",
              "    }\n",
              "\n",
              "    .dataframe thead th {\n",
              "        text-align: right;\n",
              "    }\n",
              "</style>\n",
              "<table border=\"1\" class=\"dataframe\">\n",
              "  <thead>\n",
              "    <tr style=\"text-align: right;\">\n",
              "      <th></th>\n",
              "      <th>user</th>\n",
              "      <th>id</th>\n",
              "      <th>location</th>\n",
              "      <th>date</th>\n",
              "      <th>favourites_count</th>\n",
              "      <th>text</th>\n",
              "      <th>retweet</th>\n",
              "      <th>clean_text</th>\n",
              "      <th>tb_label</th>\n",
              "    </tr>\n",
              "  </thead>\n",
              "  <tbody>\n",
              "    <tr>\n",
              "      <th>0</th>\n",
              "      <td>PatsFan876</td>\n",
              "      <td>2.999235e+09</td>\n",
              "      <td>NaN</td>\n",
              "      <td>42030</td>\n",
              "      <td>359685</td>\n",
              "      <td>Busting stereotypes here... I'm a truck drivin...</td>\n",
              "      <td>True</td>\n",
              "      <td>Busting stereotypes here... I'm a truck drivin...</td>\n",
              "      <td>0</td>\n",
              "    </tr>\n",
              "    <tr>\n",
              "      <th>1</th>\n",
              "      <td>Yasu_Al_Masih</td>\n",
              "      <td>8.830000e+17</td>\n",
              "      <td>Nazareth</td>\n",
              "      <td>42923</td>\n",
              "      <td>15736</td>\n",
              "      <td>I COULDN'T RESIST POSTING THIS ONE!🤣😂🤣😂🤣🤣🤣 🤦‍♀...</td>\n",
              "      <td>True</td>\n",
              "      <td>I COULDN'T RESIST POSTING THIS ONE!🤣😂🤣😂🤣🤣🤣 🤦‍♀...</td>\n",
              "      <td>-1</td>\n",
              "    </tr>\n",
              "    <tr>\n",
              "      <th>2</th>\n",
              "      <td>JBK11</td>\n",
              "      <td>1.503627e+07</td>\n",
              "      <td>Canada</td>\n",
              "      <td>39606</td>\n",
              "      <td>43347</td>\n",
              "      <td>Busting stereotypes here... I'm a truck drivin...</td>\n",
              "      <td>True</td>\n",
              "      <td>Busting stereotypes here... I'm a truck drivin...</td>\n",
              "      <td>0</td>\n",
              "    </tr>\n",
              "    <tr>\n",
              "      <th>3</th>\n",
              "      <td>SoyElG</td>\n",
              "      <td>3.209835e+07</td>\n",
              "      <td>NaN</td>\n",
              "      <td>39919</td>\n",
              "      <td>432</td>\n",
              "      <td>The dismissive hand wave is what’s most disres...</td>\n",
              "      <td>False</td>\n",
              "      <td>The dismissive hand wave is what’s most disres...</td>\n",
              "      <td>-1</td>\n",
              "    </tr>\n",
              "    <tr>\n",
              "      <th>4</th>\n",
              "      <td>cynthianatalie</td>\n",
              "      <td>2.110394e+07</td>\n",
              "      <td>Los Angeles</td>\n",
              "      <td>39861</td>\n",
              "      <td>4952</td>\n",
              "      <td>Inside #DonaldTrump's \"serial bad behavior\" at...</td>\n",
              "      <td>True</td>\n",
              "      <td>Inside #DonaldTrump's \"serial bad behavior\" at...</td>\n",
              "      <td>-1</td>\n",
              "    </tr>\n",
              "  </tbody>\n",
              "</table>\n",
              "</div>"
            ],
            "text/plain": [
              "             user  ...  tb_label\n",
              "0      PatsFan876  ...         0\n",
              "1   Yasu_Al_Masih  ...        -1\n",
              "2           JBK11  ...         0\n",
              "3          SoyElG  ...        -1\n",
              "4  cynthianatalie  ...        -1\n",
              "\n",
              "[5 rows x 9 columns]"
            ]
          },
          "metadata": {
            "tags": []
          },
          "execution_count": 46
        }
      ]
    },
    {
      "cell_type": "code",
      "metadata": {
        "id": "wk-p4ntUxK7Q",
        "outputId": "07d5ef38-3e68-4420-ec47-579640d002e6",
        "colab": {
          "base_uri": "https://localhost:8080/",
          "height": 374
        }
      },
      "source": [
        "after_df.head()"
      ],
      "execution_count": 47,
      "outputs": [
        {
          "output_type": "execute_result",
          "data": {
            "text/html": [
              "<div>\n",
              "<style scoped>\n",
              "    .dataframe tbody tr th:only-of-type {\n",
              "        vertical-align: middle;\n",
              "    }\n",
              "\n",
              "    .dataframe tbody tr th {\n",
              "        vertical-align: top;\n",
              "    }\n",
              "\n",
              "    .dataframe thead th {\n",
              "        text-align: right;\n",
              "    }\n",
              "</style>\n",
              "<table border=\"1\" class=\"dataframe\">\n",
              "  <thead>\n",
              "    <tr style=\"text-align: right;\">\n",
              "      <th></th>\n",
              "      <th>user</th>\n",
              "      <th>id</th>\n",
              "      <th>location</th>\n",
              "      <th>date</th>\n",
              "      <th>favourites_count</th>\n",
              "      <th>text</th>\n",
              "      <th>retweet</th>\n",
              "      <th>clean_text</th>\n",
              "      <th>tb_label</th>\n",
              "    </tr>\n",
              "  </thead>\n",
              "  <tbody>\n",
              "    <tr>\n",
              "      <th>0</th>\n",
              "      <td>Hskers62</td>\n",
              "      <td>9.081270e+17</td>\n",
              "      <td>United States</td>\n",
              "      <td>9/14/17</td>\n",
              "      <td>197954.0</td>\n",
              "      <td>Donald Trump is the only president in history ...</td>\n",
              "      <td>True</td>\n",
              "      <td>Donald Trump is the only president in history ...</td>\n",
              "      <td>0</td>\n",
              "    </tr>\n",
              "    <tr>\n",
              "      <th>1</th>\n",
              "      <td>JMZJEWELRY</td>\n",
              "      <td>8.826030e+17</td>\n",
              "      <td>Here and there</td>\n",
              "      <td>7/5/17</td>\n",
              "      <td>3652.0</td>\n",
              "      <td>Joe Biden got 306 Electoral College votes by w...</td>\n",
              "      <td>True</td>\n",
              "      <td>Joe Biden got 306 Electoral College votes by w...</td>\n",
              "      <td>0</td>\n",
              "    </tr>\n",
              "    <tr>\n",
              "      <th>2</th>\n",
              "      <td>lrogers66821</td>\n",
              "      <td>1.004390e+18</td>\n",
              "      <td>Cincinnati, OH</td>\n",
              "      <td>6/6/18</td>\n",
              "      <td>369957.0</td>\n",
              "      <td>Deutsche Bank, which funded Auschwitz, Donald ...</td>\n",
              "      <td>True</td>\n",
              "      <td>Deutsche Bank, which funded Auschwitz, Donald ...</td>\n",
              "      <td>-1</td>\n",
              "    </tr>\n",
              "    <tr>\n",
              "      <th>3</th>\n",
              "      <td>LizNYC66</td>\n",
              "      <td>8.927390e+17</td>\n",
              "      <td>Manhattan, NY</td>\n",
              "      <td>8/2/17</td>\n",
              "      <td>33175.0</td>\n",
              "      <td>The Biden administration is sure to come under...</td>\n",
              "      <td>True</td>\n",
              "      <td>The Biden administration is sure to come under...</td>\n",
              "      <td>-1</td>\n",
              "    </tr>\n",
              "    <tr>\n",
              "      <th>4</th>\n",
              "      <td>thia89837769</td>\n",
              "      <td>1.214570e+18</td>\n",
              "      <td>Ottawa, Ontario</td>\n",
              "      <td>1/7/20</td>\n",
              "      <td>5580.0</td>\n",
              "      <td>Donald Trump is the only president in history ...</td>\n",
              "      <td>True</td>\n",
              "      <td>Donald Trump is the only president in history ...</td>\n",
              "      <td>0</td>\n",
              "    </tr>\n",
              "  </tbody>\n",
              "</table>\n",
              "</div>"
            ],
            "text/plain": [
              "           user  ...  tb_label\n",
              "0      Hskers62  ...         0\n",
              "1    JMZJEWELRY  ...         0\n",
              "2  lrogers66821  ...        -1\n",
              "3      LizNYC66  ...        -1\n",
              "4  thia89837769  ...         0\n",
              "\n",
              "[5 rows x 9 columns]"
            ]
          },
          "metadata": {
            "tags": []
          },
          "execution_count": 47
        }
      ]
    },
    {
      "cell_type": "code",
      "metadata": {
        "id": "XA7drgf7xN7N"
      },
      "source": [
        ""
      ],
      "execution_count": null,
      "outputs": []
    }
  ]
}